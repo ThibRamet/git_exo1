{
 "cells": [
  {
   "cell_type": "code",
   "execution_count": null,
   "metadata": {},
   "outputs": [],
   "source": [
    "# Matrice to calculate interest 10 years / 10€ / 0.1 rate #"
   ]
  },
  {
   "cell_type": "code",
   "execution_count": 1,
   "metadata": {},
   "outputs": [
    {
     "data": {
      "text/plain": [
       "25.937424601000025"
      ]
     },
     "execution_count": 1,
     "metadata": {},
     "output_type": "execute_result"
    }
   ],
   "source": [
    "#exercice interest from jedha\n",
    "\n",
    "def interest():\n",
    "    try:\n",
    "       amount = float(input(\"How much would you depose?\"))\n",
    "       year = float(input(\"during how many years?\"))\n",
    "       rate = float(input(\"which interest do you want?\"))\n",
    "       result = amount * (1+rate) ** year\n",
    "    except ValueError:\n",
    "       print(\"please use only numbers\")\n",
    "    return result\n",
    "interest()\n"
   ]
  }
 ],
 "metadata": {
  "kernelspec": {
   "display_name": "base",
   "language": "python",
   "name": "python3"
  },
  "language_info": {
   "codemirror_mode": {
    "name": "ipython",
    "version": 3
   },
   "file_extension": ".py",
   "mimetype": "text/x-python",
   "name": "python",
   "nbconvert_exporter": "python",
   "pygments_lexer": "ipython3",
   "version": "3.11.4"
  }
 },
 "nbformat": 4,
 "nbformat_minor": 2
}
